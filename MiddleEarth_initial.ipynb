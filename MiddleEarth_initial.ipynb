{
 "cells": [
  {
   "cell_type": "code",
   "execution_count": 78,
   "metadata": {},
   "outputs": [
    {
     "name": "stdout",
     "output_type": "stream",
     "text": [
      "Respective times will be: user1, user2, user3, user4\n",
      "itaewon will take 24 , 23 , 31 , 40\n",
      "hongdae will take 21 , 28 , 44 , 21\n",
      "myeongdong will take 15 , 12 , 30 , 35\n",
      "Respective average times (mins) are:  [29.5, 28.5, 23.0]\n"
     ]
    }
   ],
   "source": [
    "#Initial attempt with three places\n",
    "\n",
    "import numpy as np\n",
    "\n",
    "#Get input from user:\n",
    "#pl1 = [input('2nd user location: ')]\n",
    "#pl2 = [input('3rd user location: ')]\n",
    "\n",
    "pl1 = 'gyeongbok'\n",
    "pl2 = 'yangjae'\n",
    "pl3 = 'mokdong'\n",
    "homedb = ['jongak',pl1,pl2,pl3]\n",
    "\n",
    "# meeting place arrays (manual data input)\n",
    "# format is [userloc, meetingloc, time_in_mins, no_of_changes]\n",
    "# each row is one possible destination\n",
    "placedb = np.array([[['jongak', 'myeongdong', 15,1 ],['gyeongbok', 'myeongdong', 12,1],['yangjae','myeongdong',30,1],['4geori','myeongdong',35,2]],\n",
    "          [['jongak', 'apgujeong', 27,1],['gyeongbok', 'apgujeong', 19,0],['yangjae','apgujeong', 15,0],['4geori','apgujeong', 48,2]],\n",
    "          [['jongak', 'apgujeong_r', 33,2],['gyeongbok', 'apgujeong_r', 32,2],['yangjae', 'apgujeong_r', 21,1],['4geori','apgujeong_r', 51,2]],\n",
    "          [['jongak', 'sinsa', 29,1],['gyeongbok', 'sinsa', 21,0],['yangjae', 'sinsa', 13,1],['4geori', 'sinsa', 46,2]],\n",
    "          [['jongak', 'gangnam', 47,0],['gyeongbok', 'gangnam', 35,1],['yangjae', 'gangnam', 10,0],['4geori', 'gangnam', 38,1]],\n",
    "          [['jongak', 'itaewon', 24,1],['gyeongbok', 'itaewon', 23,1],['yangjae', 'itaewon', 31,1],['4geori', 'itaewon', 40,2]],\n",
    "          [['jongak', 'sinchon', 18,1],['gyeongbok', 'sinchon', 28,0],['yangjae', 'sinchon', 45,1],['4geori', 'sinchon', 24,1]],\n",
    "          [['jongak', 'hongdae', 21,1],['gyeongbok', 'hongdae', 28,1],['yangjae', 'hongdae', 44,1],['4geori', 'hongdae', 21,1]]])\n",
    "\n",
    "N = len(placedb)\n",
    "#print(N)\n",
    "#print(len(homedb))\n",
    "\n",
    "avg = []\n",
    "sd = []\n",
    "for i in range(0,N):\n",
    "    row_a = []\n",
    "    for n in range(0,len(homedb)):\n",
    "        row_a += [int(placedb[i][n][2])]\n",
    "    avg += [np.sum(row_a)/len(homedb)]\n",
    "    sd += [np.std(row_a)]\n",
    "    \n",
    "#print(avg)\n",
    "#print(sd)\n",
    "orig = np.copy(sd)\n",
    "cop = orig.tolist() #convert copied array to list\n",
    "opt_i = [] #array of indices of three most min\n",
    "avg_t = []\n",
    "print('Respective times will be: user1, user2, user3, user4')\n",
    "for i in range(0,3):\n",
    "    opt_i += [sd.index(min(cop))]\n",
    "    cop.remove(min(cop))\n",
    "    avg_t += [round(avg[opt_i[i]],2)]\n",
    "    print(placedb[opt_i[i]][0][1],'will take',placedb[opt_i[i]][0][2],',',placedb[opt_i[i]][1][2],',',placedb[opt_i[i]][2][2],',',placedb[opt_i[i]][3][2])\n",
    "\n",
    "print('Respective average times (mins) are: ',avg_t)\n",
    "\n",
    "\n",
    "\n",
    "        \n",
    "        \n",
    "\n"
   ]
  },
  {
   "cell_type": "code",
   "execution_count": null,
   "metadata": {},
   "outputs": [],
   "source": []
  }
 ],
 "metadata": {
  "kernelspec": {
   "display_name": "Python 3",
   "language": "python",
   "name": "python3"
  },
  "language_info": {
   "codemirror_mode": {
    "name": "ipython",
    "version": 3
   },
   "file_extension": ".py",
   "mimetype": "text/x-python",
   "name": "python",
   "nbconvert_exporter": "python",
   "pygments_lexer": "ipython3",
   "version": "3.7.4"
  }
 },
 "nbformat": 4,
 "nbformat_minor": 2
}
